{
 "cells": [
  {
   "cell_type": "markdown",
   "metadata": {},
   "source": [
    "#### Numerical integration example"
   ]
  },
  {
   "cell_type": "markdown",
   "metadata": {},
   "source": []
  },
  {
   "cell_type": "code",
   "execution_count": 1,
   "metadata": {},
   "outputs": [
    {
     "data": {
      "image/png": "[encoded data removed]",
      "text/plain": [
       "<Figure size 1000x200 with 1 Axes>"
      ]
     },
     "metadata": {},
     "output_type": "display_data"
    }
   ],
   "source": [
    "from scipy.integrate import simps\n",
    "import numpy as np\n",
    "import matplotlib.pyplot as plt\n",
    "\n",
    "# Create uniform grid\n",
    "n_zV = 100\n",
    "\n",
    "# Vapour length in m\n",
    "l_V = 12\n",
    "\n",
    "# Number of elements\n",
    "z_grid = np.linspace(0, l_V,n_zV)\n",
    "\n",
    "\n",
    "# Visualise grid\n",
    "plt.figure(figsize=[10,2])\n",
    "plt.plot(z_grid, np.ones(len(z_grid)), 'r.')\n",
    "plt.grid()\n",
    "plt.show()\n",
    "\n"
   ]
  },
  {
   "cell_type": "markdown",
   "metadata": {},
   "source": [
    "We illustrate the Simpson's rule to compute the following integral\n",
    "\n",
    "$$ \\int_0^{12} x^2 dx = \\frac{x^3}{3} |_0^{12} = \\frac{12^3}{3} = 576 $$"
   ]
  },
  {
   "cell_type": "code",
   "execution_count": 2,
   "metadata": {},
   "outputs": [
    {
     "data": {
      "text/plain": [
       "576.0002968157238"
      ]
     },
     "execution_count": 2,
     "metadata": {},
     "output_type": "execute_result"
    }
   ],
   "source": [
    "# Generate grid \n",
    "y = z_grid**2\n",
    "\n",
    "# Compute integral\n",
    "simps(y, z_grid)"
   ]
  },
  {
   "cell_type": "markdown",
   "metadata": {},
   "source": [
    "1-D vapour temperature average"
   ]
  },
  {
   "cell_type": "markdown",
   "metadata": {},
   "source": [
    "$$ \\frac{1}{l_V} \\int_0^{l_V} T(z) dz $$"
   ]
  },
  {
   "cell_type": "code",
   "execution_count": 3,
   "metadata": {},
   "outputs": [],
   "source": [
    "# Open source Coolprop module\n",
    "import CoolProp.CoolProp as CP"
   ]
  },
  {
   "cell_type": "code",
   "execution_count": 4,
   "metadata": {},
   "outputs": [
    {
     "data": {
      "text/plain": [
       "1.3321703279411183"
      ]
     },
     "execution_count": 4,
     "metadata": {},
     "output_type": "execute_result"
    }
   ],
   "source": [
    "P = 101325\n",
    "fluid = 'hydrogen'\n",
    "CP.PropsSI('D','P',P,'Q',1,fluid)"
   ]
  },
  {
   "cell_type": "code",
   "execution_count": 5,
   "metadata": {},
   "outputs": [],
   "source": [
    "T_sat = CP.PropsSI('T','P',P,'Q',1,fluid)\n",
    "\n",
    "T_V = np.linspace(T_sat+1e-3, T_sat + 20, 100)"
   ]
  },
  {
   "cell_type": "code",
   "execution_count": 6,
   "metadata": {},
   "outputs": [
    {
     "data": {
      "text/plain": [
       "0.8787496959856409"
      ]
     },
     "execution_count": 6,
     "metadata": {},
     "output_type": "execute_result"
    }
   ],
   "source": [
    "# Coolprop can operate in a vectorised form\n",
    "rho_V = CP.PropsSI('D','P',P,'T',T_V,fluid)\n",
    "\n",
    "# Vapour length\n",
    "l_V = z_grid[-1]-z_grid[0]\n",
    "\n",
    "# Average vapour density\n",
    "rho_V_avg = 1/l_V * simps(rho_V, z_grid)\n",
    "rho_V_avg"
   ]
  },
  {
   "cell_type": "code",
   "execution_count": 7,
   "metadata": {},
   "outputs": [
    {
     "data": {
      "image/png": "[encoded data removed]",
      "text/plain": [
       "<Figure size 200x200 with 1 Axes>"
      ]
     },
     "metadata": {},
     "output_type": "display_data"
    }
   ],
   "source": [
    "plt.figure(figsize =[2,2])\n",
    "plt.plot(z_grid, rho_V)\n",
    "\n",
    "plt.show()"
   ]
  },
  {
   "cell_type": "code",
   "execution_count": 8,
   "metadata": {},
   "outputs": [
    {
     "data": {
      "text/plain": [
       "2"
      ]
     },
     "execution_count": 8,
     "metadata": {},
     "output_type": "execute_result"
    }
   ],
   "source": [
    "# Velocity profile for spherical tanks\n",
    "\n",
    "# Vapour velocity at the interphase\n",
    "v_z0 = 1 # m/s\n",
    "\n"
   ]
  },
  {
   "cell_type": "code",
   "execution_count": null,
   "metadata": {},
   "outputs": [],
   "source": []
  }
 ],
 "metadata": {
  "kernelspec": {
   "display_name": "base",
   "language": "python",
   "name": "python3"
  },
  "language_info": {
   "codemirror_mode": {
    "name": "ipython",
    "version": 3
   },
   "file_extension": ".py",
   "mimetype": "text/x-python",
   "name": "python",
   "nbconvert_exporter": "python",
   "pygments_lexer": "ipython3",
   "version": "3.9.13"
  }
 },
 "nbformat": 4,
 "nbformat_minor": 2
}
