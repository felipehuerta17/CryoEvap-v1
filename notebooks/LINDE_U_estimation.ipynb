{
 "cells": [
  {
   "cell_type": "markdown",
   "metadata": {},
   "source": [
    "#### Estimation of overall heat transfer coefficient from Linde LITS data\n",
    "\n",
    "This notebook implements a methodology to estimate the overall heat transfer coefficient for cryogenic storage tanks based in BOR data and tank geometric properties. CoolProp is used to calculate the cryogen thermophysical properties."
   ]
  },
  {
   "cell_type": "code",
   "execution_count": null,
   "metadata": {},
   "outputs": [],
   "source": [
    "# Ensure that python finds the submodules\n",
    "import sys\n",
    "sys.path.append(\"..\") # Adds higher directory to python modules path.\n",
    "\n",
    "# Scientific computing\n",
    "import numpy as np\n",
    "\n",
    "# Import Cryogen class\n",
    "from cryogens import Cryogen"
   ]
  },
  {
   "cell_type": "markdown",
   "metadata": {},
   "source": [
    "#### Use example\n",
    "\n",
    "Estimate overall heat transfer coefficient $U$ from Linde tank datasheet"
   ]
  },
  {
   "cell_type": "code",
   "execution_count": null,
   "metadata": {},
   "outputs": [],
   "source": [
    "# Datasheet pressure / Pa\n",
    "P = 101325\n",
    "\n",
    "# Tank volume / m^3\n",
    "V = 80.36\n",
    "\n",
    "# Tank external diameter / m\n",
    "d_o = 3\n",
    "\n",
    "# Initial liquid filling of the test\n",
    "LF = 0.95\n",
    "\n",
    "# Boil of rate in % of total volume evaporated per day\n",
    "BOR = 0.19e-2\n",
    "\n",
    "# Environment temperature # 25°C\n",
    "T_air = 298.15\n",
    "\n",
    "# Initialise hydrogen using CoolProp dependency\n",
    "nitrogen = Cryogen(name=\"nitrogen\")\n",
    "\n",
    "# Initialise thermodynamic properties at the tank operating pressure\n",
    "nitrogen.set_coolprops(nitrogen.name, P)\n",
    "\n",
    "# Calculation of the evaporated mass in one day\n",
    "m_evap = V * LF * nitrogen.rho_L * BOR\n",
    "\n",
    "# Calculation of the enthalpy of vaporisation at the datasheet pressure\n",
    "dH_LV = nitrogen.h_V - nitrogen.h_L\n",
    "\n",
    "# Calculates heat ingress in one day assuming isobaric storage with no pressure build-up\n",
    "Q_in = (m_evap * dH_LV)\n",
    "\n",
    "# Total heat transfer rate to the liquid / W\n",
    "Q_L_in = (Q_in / (3600*24))\n",
    "\n",
    "# Side area corresponding to the liquid height\n",
    "A_L = (np.pi * d_o) * (18.05 * 0.95) \n",
    "\n",
    "# Bottom area based in external diameter\n",
    "A_t = np.pi * d_o**2/4 \n",
    "\n",
    "# Calculate overall heat transfer coefficient\n",
    "U = Q_L_in/((A_L + A_t) * (T_air - nitrogen.T_sat) )\n",
    "\n",
    "# Prints\n",
    "print(\"m_evap %.3f kg\" % m_evap)\n",
    "print(\"A_L = %.3f m^2, A_T = %.3f m^2\" %(A_L, A_t))\n",
    "print(\"Q_L_in = %.3f W\" % Q_L_in)\n",
    "print(\"U = %.3e W m^-2 K^-1 \" % U)"
   ]
  },
  {
   "cell_type": "code",
   "execution_count": null,
   "metadata": {},
   "outputs": [],
   "source": [
    "rho = 16.18498e-3/(0.00015)\n",
    "print(rho)\n"
   ]
  }
 ],
 "metadata": {
  "kernelspec": {
   "display_name": "cryoenv",
   "language": "python",
   "name": "python3"
  },
  "language_info": {
   "codemirror_mode": {
    "name": "ipython",
    "version": 3
   },
   "file_extension": ".py",
   "mimetype": "text/x-python",
   "name": "python",
   "nbconvert_exporter": "python",
   "pygments_lexer": "ipython3",
   "version": "3.10.4"
  }
 },
 "nbformat": 4,
 "nbformat_minor": 2
}
